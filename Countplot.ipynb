{
 "cells": [
  {
   "cell_type": "markdown",
   "id": "eff80348-e030-4f8e-9693-523af70593e6",
   "metadata": {},
   "source": [
    "# Count plot in Seaborn \n",
    "\n",
    "A countplot in Seaborn is a simple yet powerful visualization tool used to display the counts of observations in each categorical bin using bars. It is particularly useful for visualizing the distribution of a single categorical variable.\n",
    "\n",
    "Here’s a breakdown of the key parameters and components of sns.countplot:\n",
    "\n",
    "# Key Parameters\n",
    "- x / y:\n",
    "\n",
    "Specifies the categorical variable to plot.\n",
    "Use x for horizontal bars or y for vertical bars.\n",
    "Example: x='category'.\n",
    "- hue:\n",
    "\n",
    "Adds a second categorical variable for color encoding.\n",
    "Useful for comparing subgroups within each category.\n",
    "Example: hue='subcategory'.\n",
    "3. data:\n",
    "\n",
    "The dataset (Pandas DataFrame) containing the variables.\n",
    "Example: data=df.\n",
    "4. palette:\n",
    "\n",
    "Defines the color palette for the bars.\n",
    "Example: palette='viridis'.\n",
    "5. order / hue_order:\n",
    "\n",
    "Specifies the order of categories for x/y or hue.\n",
    "Example: order=['A', 'B', 'C'].\n",
    "6. orient:\n",
    "\n",
    "Controls the orientation of the plot ('v' for vertical, 'h' for horizontal).\n",
    "Example: orient='h'.\n",
    "7. dodge:\n",
    "\n",
    "If True, separates bars for different hue levels; if False, stacks them.\n",
    "Example: dodge=False.\n",
    "8. linewidth:\n",
    "\n",
    "Sets the width of the bar edges.\n",
    "Example: linewidth=1.5.\n",
    "9. ax:\n",
    "\n",
    "Specifies the Matplotlib Axes object to draw the plot on.\n",
    "Example: ax=ax.\n",
    "# Components\n",
    "1. Bars: Represent the count of observations in each category.\n",
    "2. Axes: Display the categorical variable (x-axis or y-axis) and the count (y-axis or x-axis).\n",
    "3. Legend: Shows the color-coded categories when hue is used.\n",
    "4. Gridlines: Optional, for better readability."
   ]
  },
  {
   "cell_type": "code",
   "execution_count": null,
   "id": "b21bf5c1-0ac0-4488-88e7-54400d5e7db7",
   "metadata": {},
   "outputs": [],
   "source": []
  },
  {
   "cell_type": "code",
   "execution_count": null,
   "id": "422b3346-f55e-4cb7-a2f1-2229970143ae",
   "metadata": {},
   "outputs": [],
   "source": []
  }
 ],
 "metadata": {
  "kernelspec": {
   "display_name": "Python 3 (ipykernel)",
   "language": "python",
   "name": "python3"
  },
  "language_info": {
   "codemirror_mode": {
    "name": "ipython",
    "version": 3
   },
   "file_extension": ".py",
   "mimetype": "text/x-python",
   "name": "python",
   "nbconvert_exporter": "python",
   "pygments_lexer": "ipython3",
   "version": "3.13.5"
  }
 },
 "nbformat": 4,
 "nbformat_minor": 5
}
