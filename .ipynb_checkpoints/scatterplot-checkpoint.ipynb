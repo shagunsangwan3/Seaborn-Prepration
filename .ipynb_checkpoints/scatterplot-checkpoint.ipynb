{
 "cells": [
  {
   "cell_type": "markdown",
   "id": "826e4cd1-689f-41ab-94cf-ff07f6deac93",
   "metadata": {},
   "source": [
    "## Seaborn Scatter Plot: Key Parameters and Components\n",
    "\n",
    "A scatter plot in Seaborn is a powerful tool for visualizing relationships between two continuous variables. Below are the key parameters and components you can use to customize and enhance your scatter plot:\n",
    "\n",
    "# Key Parameters\n",
    "x and y:\n",
    "\n",
    "1. Specify the variables for the x-axis and y-axis.\n",
    "Example: sns.scatterplot(x='column1', y='column2', data=df)\n",
    "data:\n",
    "\n",
    "The dataset (usually a Pandas DataFrame) containing the variables.\n",
    "hue:\n",
    "\n",
    "2. Adds a third dimension by coloring points based on a categorical or continuous variable.\n",
    "Example: hue='category_column'\n",
    "size:\n",
    "\n",
    "3. Adjusts the size of points based on a continuous variable.\n",
    "Example: size='size_column'\n",
    "style:\n",
    "\n",
    "4. Differentiates points using markers based on a categorical variable.\n",
    "Example: style='category_column'\n",
    "palette:\n",
    "\n",
    "5. Defines the color palette for the hue variable.\n",
    "Example: palette='viridis'\n",
    "sizes:\n",
    "\n",
    "6. Specifies the range of point sizes when using the size parameter.\n",
    "Example: sizes=(20, 200)\n",
    "alpha:\n",
    "\n",
    "7. Controls the transparency of points.\n",
    "Example: alpha=0.7\n",
    "legend:\n",
    "\n",
    "8. Toggles the display of the legend.\n",
    "Example: legend='full' or legend=False\n",
    "ax:\n",
    "\n",
    "9. Specifies the Matplotlib axes object to draw the plot on.\n",
    "Example: ax=ax_object\n",
    "Components of a Scatter Plot\n",
    "Points:\n",
    "\n",
    "8. Represent individual data observations.\n",
    "Axes:\n",
    "\n",
    "9. The x-axis and y-axis define the coordinate system.\n",
    "Color (Hue):\n",
    "\n",
    "10. Adds a visual distinction for categories or gradients.\n",
    "Size:\n",
    "\n",
    "11. Indicates magnitude or importance of a variable.\n",
    "Markers (Style):\n",
    "\n",
    "12. Differentiates categories using shapes.\n",
    "Legend:\n",
    "\n",
    "13. Explains the meaning of colors, sizes, or markers.\n",
    "Gridlines:\n",
    "\n",
    "Optional, for better readability of the plot."
   ]
  },
  {
   "cell_type": "code",
   "execution_count": null,
   "id": "7f10babb-c2d5-4231-b380-d2e7416a0204",
   "metadata": {},
   "outputs": [],
   "source": []
  },
  {
   "cell_type": "code",
   "execution_count": null,
   "id": "113c22b0-c166-4bf3-84d1-194dcdecd648",
   "metadata": {},
   "outputs": [],
   "source": []
  },
  {
   "cell_type": "code",
   "execution_count": null,
   "id": "5f1463f9-cbcf-415a-86ce-cc54befacdd2",
   "metadata": {},
   "outputs": [],
   "source": []
  },
  {
   "cell_type": "code",
   "execution_count": null,
   "id": "17b13783-b77c-42bb-b32f-2b0f177e2b07",
   "metadata": {},
   "outputs": [],
   "source": []
  },
  {
   "cell_type": "code",
   "execution_count": null,
   "id": "00f0adc6-c1be-4f01-bb24-70d27819393c",
   "metadata": {},
   "outputs": [],
   "source": []
  },
  {
   "cell_type": "code",
   "execution_count": null,
   "id": "7f84141d-0224-4e38-983a-ffeb21eb7850",
   "metadata": {},
   "outputs": [],
   "source": []
  },
  {
   "cell_type": "code",
   "execution_count": null,
   "id": "a6bc5eb1-38d6-45cb-ae0e-8c3b51debb36",
   "metadata": {},
   "outputs": [],
   "source": []
  }
 ],
 "metadata": {
  "kernelspec": {
   "display_name": "Python 3 (ipykernel)",
   "language": "python",
   "name": "python3"
  },
  "language_info": {
   "codemirror_mode": {
    "name": "ipython",
    "version": 3
   },
   "file_extension": ".py",
   "mimetype": "text/x-python",
   "name": "python",
   "nbconvert_exporter": "python",
   "pygments_lexer": "ipython3",
   "version": "3.13.5"
  }
 },
 "nbformat": 4,
 "nbformat_minor": 5
}
