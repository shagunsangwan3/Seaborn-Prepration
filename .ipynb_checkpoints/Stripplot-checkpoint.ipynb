{
 "cells": [
  {
   "cell_type": "markdown",
   "id": "4ca92517-91f0-4c87-9d50-3709c58d104e",
   "metadata": {},
   "source": [
    "# Seaborn Strip Plot: Key Parameters and Components\n",
    "\n",
    "A strip plot in Seaborn is a type of scatter plot used to display the distribution of a numerical variable across different categories. It is particularly useful for visualizing individual data points and identifying patterns or outliers.\n",
    "\n",
    "# Key Parameters\n",
    "- data: The dataset (Pandas DataFrame) containing the variables to be plotted.\n",
    "- x / y: The categorical and numerical variables to be plotted on the x-axis and y-axis, respectively.\n",
    "- hue: A categorical variable used to group and color the data points.\n",
    "- jitter: Adds random noise to the position of points along the categorical axis to avoid overlap. Default is True.\n",
    "- dodge: Separates points by hue when hue is specified. Default is False.\n",
    "- size: Controls the size of the markers.\n",
    "- palette: Defines the color palette for the plot.\n",
    "- alpha: Adjusts the transparency of the points.\n",
    "- marker: Specifies the style of the markers (e.g., 'o', 'x', etc.).\n",
    "# Components\n",
    "- Categorical Axis: Represents the categories of the variable (e.g., groups, labels).\n",
    "- Numerical Axis: Represents the numerical values corresponding to each category.\n",
    "- Markers: Individual data points plotted for each category.\n",
    "- Hue Legend: Displays the color mapping for the hue variable (if used)."
   ]
  },
  {
   "cell_type": "code",
   "execution_count": 3,
   "id": "a1fe0782-b1d6-4e0e-a2d0-08e9859565b2",
   "metadata": {},
   "outputs": [],
   "source": [
    "import seaborn as sns\n",
    "import matplotlib.pyplot as plt\n",
    "import pandas as pd \n",
    "\n",
    "df = sns.load_dataset(\"\")\n",
    "df"
   ]
  },
  {
   "cell_type": "code",
   "execution_count": null,
   "id": "8c0840bc-c96b-4d38-9b55-716939f36890",
   "metadata": {},
   "outputs": [],
   "source": []
  },
  {
   "cell_type": "code",
   "execution_count": null,
   "id": "1fac4cfd-fc6e-4811-8bfa-b0fe726b9be5",
   "metadata": {},
   "outputs": [],
   "source": []
  }
 ],
 "metadata": {
  "kernelspec": {
   "display_name": "Python 3 (ipykernel)",
   "language": "python",
   "name": "python3"
  },
  "language_info": {
   "codemirror_mode": {
    "name": "ipython",
    "version": 3
   },
   "file_extension": ".py",
   "mimetype": "text/x-python",
   "name": "python",
   "nbconvert_exporter": "python",
   "pygments_lexer": "ipython3",
   "version": "3.13.5"
  }
 },
 "nbformat": 4,
 "nbformat_minor": 5
}
