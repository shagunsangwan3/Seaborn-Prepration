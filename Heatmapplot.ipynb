{
 "cells": [
  {
   "cell_type": "markdown",
   "id": "efcba281-715b-42e2-86e3-53c145297783",
   "metadata": {},
   "source": [
    "# Heatmap Plot in Seaborn: Key Parameters and Components\n",
    "\n",
    "Seaborn's heatmap() function is a powerful tool for visualizing data in a tabular format using colors. Below are the key parameters and components to customize and enhance your heatmap:\n",
    "\n",
    "# Key Parameters\n",
    "1. data:\n",
    "\n",
    "The core input, typically a 2D dataset like a Pandas DataFrame or a NumPy array.\n",
    "2. annot:\n",
    "\n",
    "If True, displays the data values on the heatmap cells.\n",
    "3. fmt:\n",
    "\n",
    "String formatting for annotations (e.g., \".2f\" for two decimal places).\n",
    "4. cmap:\n",
    "\n",
    "Specifies the colormap (e.g., \"coolwarm\", \"viridis\", \"Blues\"). It controls the color scheme of the heatmap.\n",
    "5. linewidths:\n",
    "\n",
    "Sets the width of the lines separating the cells.\n",
    "6. linecolor:\n",
    "\n",
    "Defines the color of the grid lines.\n",
    "7. vmin and vmax:\n",
    "\n",
    "Set the minimum and maximum values for the color scale.\n",
    "8. center:\n",
    "\n",
    "Centers the colormap at a specific value, useful for diverging data.\n",
    "9. cbar:\n",
    "\n",
    "If True, displays the color bar (default is True).\n",
    "10. cbar_kws:\n",
    "\n",
    "A dictionary to customize the color bar (e.g., {\"orientation\": \"horizontal\"}).\n",
    "11. xticklabels and yticklabels:\n",
    "\n",
    "Controls the display of tick labels. Can be True, False, or a list of labels.\n",
    "12. square:\n",
    "\n",
    "If True, makes the cells square-shaped.\n",
    "# Key Components\n",
    "1. Data Matrix:\n",
    "\n",
    "The input data that defines the heatmap structure.\n",
    "2. Color Mapping:\n",
    "\n",
    "Maps data values to colors using the colormap.\n",
    "3. Annotations:\n",
    "\n",
    "Optional text annotations for each cell.\n",
    "4. Axes Labels:\n",
    "\n",
    "Labels for the x-axis and y-axis, often derived from the data.\n",
    "5. Color Bar:\n",
    "\n",
    "A legend that shows the mapping of data values to colors.\n",
    "6. Gridlines:\n",
    "\n",
    "Optional lines separating the cells for better readability."
   ]
  },
  {
   "cell_type": "code",
   "execution_count": 9,
   "id": "a01edd57-84a1-4f71-9005-ea2ccbee947e",
   "metadata": {},
   "outputs": [
    {
     "data": {
      "text/plain": [
       "array([[ 1.        ,  1.47368421,  1.94736842,  2.42105263,  2.89473684],\n",
       "       [ 3.36842105,  3.84210526,  4.31578947,  4.78947368,  5.26315789],\n",
       "       [ 5.73684211,  6.21052632,  6.68421053,  7.15789474,  7.63157895],\n",
       "       [ 8.10526316,  8.57894737,  9.05263158,  9.52631579, 10.        ]])"
      ]
     },
     "execution_count": 9,
     "metadata": {},
     "output_type": "execute_result"
    }
   ],
   "source": [
    "import seaborn as sns\n",
    "import matplotlib.pyplot as plt\n",
    "import pandas as pd \n",
    "import numpy as np\n",
    "\n",
    "df = np.linspace(1,10,20).reshape(4,5)\n",
    "df"
   ]
  },
  {
   "cell_type": "code",
   "execution_count": 12,
   "id": "cd682fae-a8c5-40bc-8941-230b5f8b1b76",
   "metadata": {},
   "outputs": [
    {
     "data": {
      "image/png": "[encoded data removed]",
      "text/plain": [
       "<Figure size 640x480 with 2 Axes>"
      ]
     },
     "metadata": {},
     "output_type": "display_data"
    }
   ],
   "source": [
    "sns.heatmap(df)\n",
    "plt.show()"
   ]
  },
  {
   "cell_type": "code",
   "execution_count": 24,
   "id": "b45c3937-6834-418c-85ea-42080fe7db2c",
   "metadata": {},
   "outputs": [
    {
     "data": {
      "text/html": [
       "<div>\n",
       "<style scoped>\n",
       "    .dataframe tbody tr th:only-of-type {\n",
       "        vertical-align: middle;\n",
       "    }\n",
       "\n",
       "    .dataframe tbody tr th {\n",
       "        vertical-align: top;\n",
       "    }\n",
       "\n",
       "    .dataframe thead th {\n",
       "        text-align: right;\n",
       "    }\n",
       "</style>\n",
       "<table border=\"1\" class=\"dataframe\">\n",
       "  <thead>\n",
       "    <tr style=\"text-align: right;\">\n",
       "      <th></th>\n",
       "      <th>subidr</th>\n",
       "      <th>num1</th>\n",
       "      <th>num2</th>\n",
       "      <th>num3</th>\n",
       "    </tr>\n",
       "  </thead>\n",
       "  <tbody>\n",
       "    <tr>\n",
       "      <th>0</th>\n",
       "      <td>1</td>\n",
       "      <td>2</td>\n",
       "      <td>4.0</td>\n",
       "      <td>7</td>\n",
       "    </tr>\n",
       "    <tr>\n",
       "      <th>1</th>\n",
       "      <td>2</td>\n",
       "      <td>3</td>\n",
       "      <td>4.0</td>\n",
       "      <td>5</td>\n",
       "    </tr>\n",
       "    <tr>\n",
       "      <th>2</th>\n",
       "      <td>3</td>\n",
       "      <td>3</td>\n",
       "      <td>5.0</td>\n",
       "      <td>6</td>\n",
       "    </tr>\n",
       "    <tr>\n",
       "      <th>3</th>\n",
       "      <td>4</td>\n",
       "      <td>5</td>\n",
       "      <td>7.0</td>\n",
       "      <td>5</td>\n",
       "    </tr>\n",
       "    <tr>\n",
       "      <th>4</th>\n",
       "      <td>5</td>\n",
       "      <td>4</td>\n",
       "      <td>5.0</td>\n",
       "      <td>8</td>\n",
       "    </tr>\n",
       "    <tr>\n",
       "      <th>5</th>\n",
       "      <td>6</td>\n",
       "      <td>5</td>\n",
       "      <td>5.0</td>\n",
       "      <td>6</td>\n",
       "    </tr>\n",
       "    <tr>\n",
       "      <th>6</th>\n",
       "      <td>7</td>\n",
       "      <td>5</td>\n",
       "      <td>4.5</td>\n",
       "      <td>6</td>\n",
       "    </tr>\n",
       "    <tr>\n",
       "      <th>7</th>\n",
       "      <td>8</td>\n",
       "      <td>5</td>\n",
       "      <td>7.0</td>\n",
       "      <td>8</td>\n",
       "    </tr>\n",
       "    <tr>\n",
       "      <th>8</th>\n",
       "      <td>9</td>\n",
       "      <td>2</td>\n",
       "      <td>3.0</td>\n",
       "      <td>7</td>\n",
       "    </tr>\n",
       "    <tr>\n",
       "      <th>9</th>\n",
       "      <td>10</td>\n",
       "      <td>6</td>\n",
       "      <td>5.0</td>\n",
       "      <td>6</td>\n",
       "    </tr>\n",
       "  </tbody>\n",
       "</table>\n",
       "</div>"
      ],
      "text/plain": [
       "   subidr  num1  num2  num3\n",
       "0       1     2   4.0     7\n",
       "1       2     3   4.0     5\n",
       "2       3     3   5.0     6\n",
       "3       4     5   7.0     5\n",
       "4       5     4   5.0     8\n",
       "5       6     5   5.0     6\n",
       "6       7     5   4.5     6\n",
       "7       8     5   7.0     8\n",
       "8       9     2   3.0     7\n",
       "9      10     6   5.0     6"
      ]
     },
     "execution_count": 24,
     "metadata": {},
     "output_type": "execute_result"
    }
   ],
   "source": [
    "dff = sns.load_dataset(\"anagrams\")\n",
    "x= dff.drop(columns=[\"attnr\"],axis=1)\n",
    "y= x.head(10)\n",
    "y"
   ]
  },
  {
   "cell_type": "code",
   "execution_count": 27,
   "id": "729334ba-050d-4eba-bb28-32081388c8cb",
   "metadata": {},
   "outputs": [
    {
     "data": {
      "image/png": "[encoded data removed]",
      "text/plain": [
       "<Figure size 640x480 with 2 Axes>"
      ]
     },
     "metadata": {},
     "output_type": "display_data"
    }
   ],
   "source": [
    "sns.heatmap(y,vmin=0,vmax=20)\n",
    "plt.show()"
   ]
  },
  {
   "cell_type": "code",
   "execution_count": 30,
   "id": "3528b7f4-c672-4858-885f-ab158f6cee32",
   "metadata": {},
   "outputs": [
    {
     "data": {
      "image/png": "[encoded data removed]",
      "text/plain": [
       "<Figure size 640x480 with 2 Axes>"
      ]
     },
     "metadata": {},
     "output_type": "display_data"
    }
   ],
   "source": [
    "sns.heatmap(y,vmin=0,vmax=20,cmap=\"cool\",annot=True)\n",
    "plt.show()"
   ]
  },
  {
   "cell_type": "code",
   "execution_count": 32,
   "id": "2fbf7402-19d6-4cdd-a291-8e6f51952c53",
   "metadata": {},
   "outputs": [
    {
     "data": {
      "text/plain": [
       "array([[ 1.,  2.,  3.,  4.,  5.],\n",
       "       [ 6.,  7.,  8.,  9., 10.]])"
      ]
     },
     "execution_count": 32,
     "metadata": {},
     "output_type": "execute_result"
    }
   ],
   "source": [
    "name = np.linspace(1,10,10).reshape(2,5)\n",
    "name"
   ]
  },
  {
   "cell_type": "code",
   "execution_count": 33,
   "id": "16f3b15d-628e-43d7-9149-8f3ba42a3f16",
   "metadata": {},
   "outputs": [
    {
     "data": {
      "text/plain": [
       "<Axes: >"
      ]
     },
     "execution_count": 33,
     "metadata": {},
     "output_type": "execute_result"
    },
    {
     "data": {
      "image/png": "[encoded data removed]",
      "text/plain": [
       "<Figure size 640x480 with 2 Axes>"
      ]
     },
     "metadata": {},
     "output_type": "display_data"
    }
   ],
   "source": [
    "sns.heatmap(name,vmin=0,vmax=10,cmap='PuOr',annot=True)"
   ]
  },
  {
   "cell_type": "code",
   "execution_count": 48,
   "id": "04966649-62ff-49db-8862-30fba7d0e253",
   "metadata": {},
   "outputs": [],
   "source": [
    "ar = np.array([[\"a0\",\"a1\",\"a2\",\"a3\",\"a4\"],\n",
    "               [\"b0\",\"b1\",\"b2\",\"b3\",\"b4\"]])"
   ]
  },
  {
   "cell_type": "code",
   "execution_count": 49,
   "id": "bdbe33a1-3dee-4408-91ca-0b214b0dde2c",
   "metadata": {},
   "outputs": [
    {
     "ename": "ValueError",
     "evalue": "could not convert string to float: np.str_('a0')",
     "output_type": "error",
     "traceback": [
      "\u001b[1;31m---------------------------------------------------------------------------\u001b[0m",
      "\u001b[1;31mValueError\u001b[0m                                Traceback (most recent call last)",
      "Cell \u001b[1;32mIn[49], line 1\u001b[0m\n\u001b[1;32m----> 1\u001b[0m sns\u001b[38;5;241m.\u001b[39mheatmap(ar,vmin\u001b[38;5;241m=\u001b[39m\u001b[38;5;241m0\u001b[39m,vmax\u001b[38;5;241m=\u001b[39m\u001b[38;5;241m10\u001b[39m,cmap\u001b[38;5;241m=\u001b[39m\u001b[38;5;124m'\u001b[39m\u001b[38;5;124mcool\u001b[39m\u001b[38;5;124m'\u001b[39m,annot\u001b[38;5;241m=\u001b[39mar,fmt\u001b[38;5;241m=\u001b[39m\u001b[38;5;124m\"\u001b[39m\u001b[38;5;124ms\u001b[39m\u001b[38;5;124m\"\u001b[39m)\n",
      "File \u001b[1;32m~\\AppData\\Roaming\\Python\\Python313\\site-packages\\seaborn\\matrix.py:446\u001b[0m, in \u001b[0;36mheatmap\u001b[1;34m(data, vmin, vmax, cmap, center, robust, annot, fmt, annot_kws, linewidths, linecolor, cbar, cbar_kws, cbar_ax, square, xticklabels, yticklabels, mask, ax, **kwargs)\u001b[0m\n\u001b[0;32m    365\u001b[0m \u001b[38;5;250m\u001b[39m\u001b[38;5;124;03m\"\"\"Plot rectangular data as a color-encoded matrix.\u001b[39;00m\n\u001b[0;32m    366\u001b[0m \n\u001b[0;32m    367\u001b[0m \u001b[38;5;124;03mThis is an Axes-level function and will draw the heatmap into the\u001b[39;00m\n\u001b[1;32m   (...)\u001b[0m\n\u001b[0;32m    443\u001b[0m \n\u001b[0;32m    444\u001b[0m \u001b[38;5;124;03m\"\"\"\u001b[39;00m\n\u001b[0;32m    445\u001b[0m \u001b[38;5;66;03m# Initialize the plotter object\u001b[39;00m\n\u001b[1;32m--> 446\u001b[0m plotter \u001b[38;5;241m=\u001b[39m _HeatMapper(data, vmin, vmax, cmap, center, robust, annot, fmt,\n\u001b[0;32m    447\u001b[0m                       annot_kws, cbar, cbar_kws, xticklabels,\n\u001b[0;32m    448\u001b[0m                       yticklabels, mask)\n\u001b[0;32m    450\u001b[0m \u001b[38;5;66;03m# Add the pcolormesh kwargs here\u001b[39;00m\n\u001b[0;32m    451\u001b[0m kwargs[\u001b[38;5;124m\"\u001b[39m\u001b[38;5;124mlinewidths\u001b[39m\u001b[38;5;124m\"\u001b[39m] \u001b[38;5;241m=\u001b[39m linewidths\n",
      "File \u001b[1;32m~\\AppData\\Roaming\\Python\\Python313\\site-packages\\seaborn\\matrix.py:163\u001b[0m, in \u001b[0;36m_HeatMapper.__init__\u001b[1;34m(self, data, vmin, vmax, cmap, center, robust, annot, fmt, annot_kws, cbar, cbar_kws, xticklabels, yticklabels, mask)\u001b[0m\n\u001b[0;32m    160\u001b[0m \u001b[38;5;28mself\u001b[39m\u001b[38;5;241m.\u001b[39mylabel \u001b[38;5;241m=\u001b[39m ylabel \u001b[38;5;28;01mif\u001b[39;00m ylabel \u001b[38;5;129;01mis\u001b[39;00m \u001b[38;5;129;01mnot\u001b[39;00m \u001b[38;5;28;01mNone\u001b[39;00m \u001b[38;5;28;01melse\u001b[39;00m \u001b[38;5;124m\"\u001b[39m\u001b[38;5;124m\"\u001b[39m\n\u001b[0;32m    162\u001b[0m \u001b[38;5;66;03m# Determine good default values for the colormapping\u001b[39;00m\n\u001b[1;32m--> 163\u001b[0m \u001b[38;5;28mself\u001b[39m\u001b[38;5;241m.\u001b[39m_determine_cmap_params(plot_data, vmin, vmax,\n\u001b[0;32m    164\u001b[0m                             cmap, center, robust)\n\u001b[0;32m    166\u001b[0m \u001b[38;5;66;03m# Sort out the annotations\u001b[39;00m\n\u001b[0;32m    167\u001b[0m \u001b[38;5;28;01mif\u001b[39;00m annot \u001b[38;5;129;01mis\u001b[39;00m \u001b[38;5;28;01mNone\u001b[39;00m \u001b[38;5;129;01mor\u001b[39;00m annot \u001b[38;5;129;01mis\u001b[39;00m \u001b[38;5;28;01mFalse\u001b[39;00m:\n",
      "File \u001b[1;32m~\\AppData\\Roaming\\Python\\Python313\\site-packages\\seaborn\\matrix.py:197\u001b[0m, in \u001b[0;36m_HeatMapper._determine_cmap_params\u001b[1;34m(self, plot_data, vmin, vmax, cmap, center, robust)\u001b[0m\n\u001b[0;32m    194\u001b[0m \u001b[38;5;250m\u001b[39m\u001b[38;5;124;03m\"\"\"Use some heuristics to set good defaults for colorbar and range.\"\"\"\u001b[39;00m\n\u001b[0;32m    196\u001b[0m \u001b[38;5;66;03m# plot_data is a np.ma.array instance\u001b[39;00m\n\u001b[1;32m--> 197\u001b[0m calc_data \u001b[38;5;241m=\u001b[39m plot_data\u001b[38;5;241m.\u001b[39mastype(\u001b[38;5;28mfloat\u001b[39m)\u001b[38;5;241m.\u001b[39mfilled(np\u001b[38;5;241m.\u001b[39mnan)\n\u001b[0;32m    198\u001b[0m \u001b[38;5;28;01mif\u001b[39;00m vmin \u001b[38;5;129;01mis\u001b[39;00m \u001b[38;5;28;01mNone\u001b[39;00m:\n\u001b[0;32m    199\u001b[0m     \u001b[38;5;28;01mif\u001b[39;00m robust:\n",
      "\u001b[1;31mValueError\u001b[0m: could not convert string to float: np.str_('a0')"
     ]
    }
   ],
   "source": [
    "sns.heatmap(ar,vmin=0,vmax=10,cmap='cool',annot=ar,fmt=\"s\")"
   ]
  },
  {
   "cell_type": "code",
   "execution_count": null,
   "id": "3ae75310-4eab-4526-998f-6408d923f35b",
   "metadata": {},
   "outputs": [],
   "source": []
  }
 ],
 "metadata": {
  "kernelspec": {
   "display_name": "Python 3 (ipykernel)",
   "language": "python",
   "name": "python3"
  },
  "language_info": {
   "codemirror_mode": {
    "name": "ipython",
    "version": 3
   },
   "file_extension": ".py",
   "mimetype": "text/x-python",
   "name": "python",
   "nbconvert_exporter": "python",
   "pygments_lexer": "ipython3",
   "version": "3.13.5"
  }
 },
 "nbformat": 4,
 "nbformat_minor": 5
}
